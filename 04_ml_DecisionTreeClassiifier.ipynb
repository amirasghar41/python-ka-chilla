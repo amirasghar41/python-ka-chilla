{
 "cells": [
  {
   "cell_type": "markdown",
   "metadata": {},
   "source": [
    "# Model of DecisionTreeClassifier"
   ]
  },
  {
   "cell_type": "code",
   "execution_count": 1,
   "metadata": {},
   "outputs": [
    {
     "data": {
      "text/html": [
       "<div>\n",
       "<style scoped>\n",
       "    .dataframe tbody tr th:only-of-type {\n",
       "        vertical-align: middle;\n",
       "    }\n",
       "\n",
       "    .dataframe tbody tr th {\n",
       "        vertical-align: top;\n",
       "    }\n",
       "\n",
       "    .dataframe thead th {\n",
       "        text-align: right;\n",
       "    }\n",
       "</style>\n",
       "<table border=\"1\" class=\"dataframe\">\n",
       "  <thead>\n",
       "    <tr style=\"text-align: right;\">\n",
       "      <th></th>\n",
       "      <th>sepal_length</th>\n",
       "      <th>sepal_width</th>\n",
       "      <th>petal_length</th>\n",
       "      <th>petal_width</th>\n",
       "      <th>species</th>\n",
       "    </tr>\n",
       "  </thead>\n",
       "  <tbody>\n",
       "    <tr>\n",
       "      <th>0</th>\n",
       "      <td>5.1</td>\n",
       "      <td>3.5</td>\n",
       "      <td>1.4</td>\n",
       "      <td>0.2</td>\n",
       "      <td>setosa</td>\n",
       "    </tr>\n",
       "    <tr>\n",
       "      <th>1</th>\n",
       "      <td>4.9</td>\n",
       "      <td>3.0</td>\n",
       "      <td>1.4</td>\n",
       "      <td>0.2</td>\n",
       "      <td>setosa</td>\n",
       "    </tr>\n",
       "    <tr>\n",
       "      <th>2</th>\n",
       "      <td>4.7</td>\n",
       "      <td>3.2</td>\n",
       "      <td>1.3</td>\n",
       "      <td>0.2</td>\n",
       "      <td>setosa</td>\n",
       "    </tr>\n",
       "    <tr>\n",
       "      <th>3</th>\n",
       "      <td>4.6</td>\n",
       "      <td>3.1</td>\n",
       "      <td>1.5</td>\n",
       "      <td>0.2</td>\n",
       "      <td>setosa</td>\n",
       "    </tr>\n",
       "    <tr>\n",
       "      <th>4</th>\n",
       "      <td>5.0</td>\n",
       "      <td>3.6</td>\n",
       "      <td>1.4</td>\n",
       "      <td>0.2</td>\n",
       "      <td>setosa</td>\n",
       "    </tr>\n",
       "  </tbody>\n",
       "</table>\n",
       "</div>"
      ],
      "text/plain": [
       "   sepal_length  sepal_width  petal_length  petal_width species\n",
       "0           5.1          3.5           1.4          0.2  setosa\n",
       "1           4.9          3.0           1.4          0.2  setosa\n",
       "2           4.7          3.2           1.3          0.2  setosa\n",
       "3           4.6          3.1           1.5          0.2  setosa\n",
       "4           5.0          3.6           1.4          0.2  setosa"
      ]
     },
     "execution_count": 1,
     "metadata": {},
     "output_type": "execute_result"
    }
   ],
   "source": [
    "#load sample data set\n",
    "#import libraries\n",
    "import pandas as pd \n",
    "import numpy as np \n",
    "import seaborn as sns\n",
    "d=sns.load_dataset(\"iris\") # data download kya\n",
    "d.head()"
   ]
  },
  {
   "cell_type": "code",
   "execution_count": 2,
   "metadata": {},
   "outputs": [],
   "source": [
    "import matplotlib.pyplot as plt\n",
    "from sklearn.tree import DecisionTreeClassifier\n",
    "X=d.iloc[ : ,:-1]\n",
    "y=d.iloc[ : ,-1:]"
   ]
  },
  {
   "cell_type": "code",
   "execution_count": 3,
   "metadata": {},
   "outputs": [
    {
     "data": {
      "text/html": [
       "<div>\n",
       "<style scoped>\n",
       "    .dataframe tbody tr th:only-of-type {\n",
       "        vertical-align: middle;\n",
       "    }\n",
       "\n",
       "    .dataframe tbody tr th {\n",
       "        vertical-align: top;\n",
       "    }\n",
       "\n",
       "    .dataframe thead th {\n",
       "        text-align: right;\n",
       "    }\n",
       "</style>\n",
       "<table border=\"1\" class=\"dataframe\">\n",
       "  <thead>\n",
       "    <tr style=\"text-align: right;\">\n",
       "      <th></th>\n",
       "      <th>sepal_length</th>\n",
       "      <th>sepal_width</th>\n",
       "      <th>petal_length</th>\n",
       "      <th>petal_width</th>\n",
       "    </tr>\n",
       "  </thead>\n",
       "  <tbody>\n",
       "    <tr>\n",
       "      <th>0</th>\n",
       "      <td>5.1</td>\n",
       "      <td>3.5</td>\n",
       "      <td>1.4</td>\n",
       "      <td>0.2</td>\n",
       "    </tr>\n",
       "    <tr>\n",
       "      <th>1</th>\n",
       "      <td>4.9</td>\n",
       "      <td>3.0</td>\n",
       "      <td>1.4</td>\n",
       "      <td>0.2</td>\n",
       "    </tr>\n",
       "    <tr>\n",
       "      <th>2</th>\n",
       "      <td>4.7</td>\n",
       "      <td>3.2</td>\n",
       "      <td>1.3</td>\n",
       "      <td>0.2</td>\n",
       "    </tr>\n",
       "    <tr>\n",
       "      <th>3</th>\n",
       "      <td>4.6</td>\n",
       "      <td>3.1</td>\n",
       "      <td>1.5</td>\n",
       "      <td>0.2</td>\n",
       "    </tr>\n",
       "    <tr>\n",
       "      <th>4</th>\n",
       "      <td>5.0</td>\n",
       "      <td>3.6</td>\n",
       "      <td>1.4</td>\n",
       "      <td>0.2</td>\n",
       "    </tr>\n",
       "  </tbody>\n",
       "</table>\n",
       "</div>"
      ],
      "text/plain": [
       "   sepal_length  sepal_width  petal_length  petal_width\n",
       "0           5.1          3.5           1.4          0.2\n",
       "1           4.9          3.0           1.4          0.2\n",
       "2           4.7          3.2           1.3          0.2\n",
       "3           4.6          3.1           1.5          0.2\n",
       "4           5.0          3.6           1.4          0.2"
      ]
     },
     "execution_count": 3,
     "metadata": {},
     "output_type": "execute_result"
    }
   ],
   "source": [
    "X.head()"
   ]
  },
  {
   "cell_type": "code",
   "execution_count": 4,
   "metadata": {},
   "outputs": [
    {
     "data": {
      "text/html": [
       "<div>\n",
       "<style scoped>\n",
       "    .dataframe tbody tr th:only-of-type {\n",
       "        vertical-align: middle;\n",
       "    }\n",
       "\n",
       "    .dataframe tbody tr th {\n",
       "        vertical-align: top;\n",
       "    }\n",
       "\n",
       "    .dataframe thead th {\n",
       "        text-align: right;\n",
       "    }\n",
       "</style>\n",
       "<table border=\"1\" class=\"dataframe\">\n",
       "  <thead>\n",
       "    <tr style=\"text-align: right;\">\n",
       "      <th></th>\n",
       "      <th>species</th>\n",
       "    </tr>\n",
       "  </thead>\n",
       "  <tbody>\n",
       "    <tr>\n",
       "      <th>0</th>\n",
       "      <td>setosa</td>\n",
       "    </tr>\n",
       "    <tr>\n",
       "      <th>1</th>\n",
       "      <td>setosa</td>\n",
       "    </tr>\n",
       "    <tr>\n",
       "      <th>2</th>\n",
       "      <td>setosa</td>\n",
       "    </tr>\n",
       "    <tr>\n",
       "      <th>3</th>\n",
       "      <td>setosa</td>\n",
       "    </tr>\n",
       "    <tr>\n",
       "      <th>4</th>\n",
       "      <td>setosa</td>\n",
       "    </tr>\n",
       "  </tbody>\n",
       "</table>\n",
       "</div>"
      ],
      "text/plain": [
       "  species\n",
       "0  setosa\n",
       "1  setosa\n",
       "2  setosa\n",
       "3  setosa\n",
       "4  setosa"
      ]
     },
     "execution_count": 4,
     "metadata": {},
     "output_type": "execute_result"
    }
   ],
   "source": [
    "y.head()"
   ]
  },
  {
   "cell_type": "markdown",
   "metadata": {},
   "source": [
    "#nachy wala "
   ]
  },
  {
   "cell_type": "code",
   "execution_count": 16,
   "metadata": {},
   "outputs": [
    {
     "data": {
      "image/png": "[encoded data removed]",
      "text/plain": [
       "<Figure size 432x288 with 1 Axes>"
      ]
     },
     "metadata": {
      "needs_background": "light"
     },
     "output_type": "display_data"
    }
   ],
   "source": [
    "from sklearn.tree import DecisionTreeClassifier\n",
    "from sklearn.tree import plot_tree\n",
    "\n",
    "model=DecisionTreeClassifier().fit(X,y)\n",
    "plot_tree(model, filled=True)\n",
    "plt.title(\"Decision tree training model of titanic data \")\n",
    "plt.show()"
   ]
  },
  {
   "cell_type": "code",
   "execution_count": 20,
   "metadata": {},
   "outputs": [
    {
     "data": {
      "image/png": "[encoded data removed]",
      "text/plain": [
       "<Figure size 432x288 with 1 Axes>"
      ]
     },
     "metadata": {
      "needs_background": "light"
     },
     "output_type": "display_data"
    }
   ],
   "source": [
    "from sklearn.tree import DecisionTreeClassifier\n",
    "from sklearn.tree import plot_tree\n",
    "\n",
    "model=DecisionTreeClassifier().fit(X,y)\n",
    "plot_tree(model, filled=True)\n",
    "plt.title(\"Decision tree training model of titanic data \")\n",
    "plt.savefig('tiff_compressed.tiff',dpi=600,format='tiff',\n",
    "         facecolor=\"white\",edgecolor='none',\n",
    "         pil_kwargs={\"compression\":\"tiff_lzw\"})\n",
    "plt.show()"
   ]
  },
  {
   "cell_type": "markdown",
   "metadata": {},
   "source": [
    "# Es k angy jo  likha hai ya mane just practice k lye likha hai\n"
   ]
  },
  {
   "cell_type": "code",
   "execution_count": 6,
   "metadata": {},
   "outputs": [
    {
     "name": "stdout",
     "output_type": "stream",
     "text": [
      "Help on function savefig in module matplotlib.pyplot:\n",
      "\n",
      "savefig(*args, **kwargs)\n",
      "    Save the current figure.\n",
      "    \n",
      "    Call signature::\n",
      "    \n",
      "      savefig(fname, *, dpi='figure', format=None, metadata=None,\n",
      "              bbox_inches=None, pad_inches=0.1,\n",
      "              facecolor='auto', edgecolor='auto',\n",
      "              backend=None, **kwargs\n",
      "             )\n",
      "    \n",
      "    The available output formats depend on the backend being used.\n",
      "    \n",
      "    Parameters\n",
      "    ----------\n",
      "    fname : str or path-like or binary file-like\n",
      "        A path, or a Python file-like object, or\n",
      "        possibly some backend-dependent object such as\n",
      "        `matplotlib.backends.backend_pdf.PdfPages`.\n",
      "    \n",
      "        If *format* is set, it determines the output format, and the file\n",
      "        is saved as *fname*.  Note that *fname* is used verbatim, and there\n",
      "        is no attempt to make the extension, if any, of *fname* match\n",
      "        *format*, and no extension is appended.\n",
      "    \n",
      "        If *format* is not set, then the format is inferred from the\n",
      "        extension of *fname*, if there is one.  If *format* is not\n",
      "        set and *fname* has no extension, then the file is saved with\n",
      "        :rc:`savefig.format` and the appropriate extension is appended to\n",
      "        *fname*.\n",
      "    \n",
      "    Other Parameters\n",
      "    ----------------\n",
      "    dpi : float or 'figure', default: :rc:`savefig.dpi`\n",
      "        The resolution in dots per inch.  If 'figure', use the figure's\n",
      "        dpi value.\n",
      "    \n",
      "    format : str\n",
      "        The file format, e.g. 'png', 'pdf', 'svg', ... The behavior when\n",
      "        this is unset is documented under *fname*.\n",
      "    \n",
      "    metadata : dict, optional\n",
      "        Key/value pairs to store in the image metadata. The supported keys\n",
      "        and defaults depend on the image format and backend:\n",
      "    \n",
      "        - 'png' with Agg backend: See the parameter ``metadata`` of\n",
      "          `~.FigureCanvasAgg.print_png`.\n",
      "        - 'pdf' with pdf backend: See the parameter ``metadata`` of\n",
      "          `~.backend_pdf.PdfPages`.\n",
      "        - 'svg' with svg backend: See the parameter ``metadata`` of\n",
      "          `~.FigureCanvasSVG.print_svg`.\n",
      "        - 'eps' and 'ps' with PS backend: Only 'Creator' is supported.\n",
      "    \n",
      "    bbox_inches : str or `.Bbox`, default: :rc:`savefig.bbox`\n",
      "        Bounding box in inches: only the given portion of the figure is\n",
      "        saved.  If 'tight', try to figure out the tight bbox of the figure.\n",
      "    \n",
      "    pad_inches : float, default: :rc:`savefig.pad_inches`\n",
      "        Amount of padding around the figure when bbox_inches is 'tight'.\n",
      "    \n",
      "    facecolor : color or 'auto', default: :rc:`savefig.facecolor`\n",
      "        The facecolor of the figure.  If 'auto', use the current figure\n",
      "        facecolor.\n",
      "    \n",
      "    edgecolor : color or 'auto', default: :rc:`savefig.edgecolor`\n",
      "        The edgecolor of the figure.  If 'auto', use the current figure\n",
      "        edgecolor.\n",
      "    \n",
      "    backend : str, optional\n",
      "        Use a non-default backend to render the file, e.g. to render a\n",
      "        png file with the \"cairo\" backend rather than the default \"agg\",\n",
      "        or a pdf file with the \"pgf\" backend rather than the default\n",
      "        \"pdf\".  Note that the default backend is normally sufficient.  See\n",
      "        :ref:`the-builtin-backends` for a list of valid backends for each\n",
      "        file format.  Custom backends can be referenced as \"module://...\".\n",
      "    \n",
      "    orientation : {'landscape', 'portrait'}\n",
      "        Currently only supported by the postscript backend.\n",
      "    \n",
      "    papertype : str\n",
      "        One of 'letter', 'legal', 'executive', 'ledger', 'a0' through\n",
      "        'a10', 'b0' through 'b10'. Only supported for postscript\n",
      "        output.\n",
      "    \n",
      "    transparent : bool\n",
      "        If *True*, the Axes patches will all be transparent; the\n",
      "        Figure patch will also be transparent unless *facecolor*\n",
      "        and/or *edgecolor* are specified via kwargs.\n",
      "    \n",
      "        If *False* has no effect and the color of the Axes and\n",
      "        Figure patches are unchanged (unless the Figure patch\n",
      "        is specified via the *facecolor* and/or *edgecolor* keyword\n",
      "        arguments in which case those colors are used).\n",
      "    \n",
      "        The transparency of these patches will be restored to their\n",
      "        original values upon exit of this function.\n",
      "    \n",
      "        This is useful, for example, for displaying\n",
      "        a plot on top of a colored background on a web page.\n",
      "    \n",
      "    bbox_extra_artists : list of `~matplotlib.artist.Artist`, optional\n",
      "        A list of extra artists that will be considered when the\n",
      "        tight bbox is calculated.\n",
      "    \n",
      "    pil_kwargs : dict, optional\n",
      "        Additional keyword arguments that are passed to\n",
      "        `PIL.Image.Image.save` when saving the figure.\n",
      "\n"
     ]
    }
   ],
   "source": [
    "help(plt.savefig)"
   ]
  },
  {
   "cell_type": "code",
   "execution_count": 7,
   "metadata": {},
   "outputs": [
    {
     "data": {
      "text/plain": [
       "DecisionTreeClassifier()"
      ]
     },
     "execution_count": 7,
     "metadata": {},
     "output_type": "execute_result"
    }
   ],
   "source": [
    "from sklearn.model_selection import train_test_split\n",
    "x_train,x_test,y_train,y_test=train_test_split(X,y,test_size=0.2,random_state=0)\n",
    "\n",
    "\n",
    "from sklearn.tree import DecisionTreeClassifier\n",
    "model=DecisionTreeClassifier().fit(x_train,y_train)\n",
    "model"
   ]
  },
  {
   "cell_type": "code",
   "execution_count": 8,
   "metadata": {},
   "outputs": [
    {
     "data": {
      "text/plain": [
       "1.0"
      ]
     },
     "execution_count": 8,
     "metadata": {},
     "output_type": "execute_result"
    }
   ],
   "source": [
    "model.score(x_train,y_train)"
   ]
  },
  {
   "cell_type": "code",
   "execution_count": 9,
   "metadata": {},
   "outputs": [
    {
     "name": "stdout",
     "output_type": "stream",
     "text": [
      "Your test score is =  1.0\n",
      "Your train score is =  1.0\n"
     ]
    }
   ],
   "source": [
    "print(\"Your test score is = \",model.score(x_test,y_test))\n",
    "print(\"Your train score is = \",model.score(x_train,y_train))"
   ]
  }
 ],
 "metadata": {
  "interpreter": {
   "hash": "f4a60fddce04675db2b44628418a28ed56955d031f89378bd541af5e032e650d"
  },
  "kernelspec": {
   "display_name": "Python 3.10.4 64-bit",
   "language": "python",
   "name": "python3"
  },
  "language_info": {
   "codemirror_mode": {
    "name": "ipython",
    "version": 3
   },
   "file_extension": ".py",
   "mimetype": "text/x-python",
   "name": "python",
   "nbconvert_exporter": "python",
   "pygments_lexer": "ipython3",
   "version": "3.10.4"
  },
  "orig_nbformat": 4
 },
 "nbformat": 4,
 "nbformat_minor": 2
}

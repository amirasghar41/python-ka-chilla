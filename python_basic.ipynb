{
 "cells": [
  {
   "cell_type": "code",
   "execution_count": 1,
   "metadata": {},
   "outputs": [
    {
     "name": "stdout",
     "output_type": "stream",
     "text": [
      "Asslamwaalikum Baba ji\n"
     ]
    }
   ],
   "source": [
    "print(\"Asslamwaalikum Baba ji\")"
   ]
  },
  {
   "cell_type": "markdown",
   "metadata": {},
   "source": [
    "# operator"
   ]
  },
  {
   "cell_type": "code",
   "execution_count": null,
   "metadata": {},
   "outputs": [],
   "source": [
    "print(2+4)\n",
    "print(5-3)\n",
    "print(2*4)\n",
    "print(8/2)\n",
    "print(17%3)\n",
    "print(4//2)\n",
    "print(2**4)\n",
    "print(3**2/2*3/3+5/3-6)"
   ]
  },
  {
   "cell_type": "markdown",
   "metadata": {},
   "source": [
    "# string"
   ]
  },
  {
   "cell_type": "code",
   "execution_count": null,
   "metadata": {},
   "outputs": [],
   "source": [
    "print('Aamir')\n",
    "print(\"khan\")\n",
    "print('''Hanjra''')"
   ]
  },
  {
   "cell_type": "markdown",
   "metadata": {},
   "source": [
    "# comment"
   ]
  },
  {
   "cell_type": "code",
   "execution_count": null,
   "metadata": {},
   "outputs": [],
   "source": [
    "print(\"I am Amir\")# my name\n",
    "print(\"Learning with ammar\") #learn with baba g\n",
    "print(8*5)# 8+ 5=13\n",
    "# my name is muhammad Aamir khan from pakpattan ."
   ]
  },
  {
   "cell_type": "markdown",
   "metadata": {},
   "source": [
    "#  variable"
   ]
  },
  {
   "cell_type": "code",
   "execution_count": null,
   "metadata": {},
   "outputs": [],
   "source": [
    "x=5\n",
    "print(x)\n",
    "y=(\"My name is muhammad Aamir\")\n",
    "print(y)\n",
    "x=x+45\n",
    "print(x)\n",
    "z=56.7\n",
    "print(z)\n",
    "b=True\n",
    "print(b)\n",
    "# types of variables\n",
    "\n",
    "print(type(x))\n",
    "print(type(y))\n",
    "print(type(z))\n",
    "print(type(b))\n",
    "\n",
    "fruit_basket=\"Mangoes\",\"Orangies\"\n",
    "print(fruit_basket)\n",
    "print(type(fruit_basket))\n",
    "fruit_basket=\"Mangoes,Orangies\"\n",
    "print(fruit_basket)\n",
    "print(type(fruit_basket))\n"
   ]
  },
  {
   "cell_type": "markdown",
   "metadata": {},
   "source": [
    "# input variable"
   ]
  },
  {
   "cell_type": "code",
   "execution_count": null,
   "metadata": {},
   "outputs": [],
   "source": [
    "# fruit_basket=input(\"Your best favorite fluit is? \")\n",
    "# print(fruit_basket)\n",
    "# name=input(\"What is your name is? \")\n",
    "# greeting=\"hello!\"\n",
    "# print(greeting,name)\n",
    "name=input(\"What is your name is? \")\n",
    "age=input(\"How old are you \")\n",
    "greeting=\"Hello!\"\n",
    "print(greeting,name,\" ,You are still young.\")"
   ]
  },
  {
   "cell_type": "markdown",
   "metadata": {},
   "source": [
    "# conditional_logic"
   ]
  },
  {
   "cell_type": "code",
   "execution_count": null,
   "metadata": {},
   "outputs": [],
   "source": [
    "# ==\n",
    "# <\n",
    "# >\n",
    "# <=\n",
    "# >=\n",
    "# !=\n",
    "print(4==4)\n",
    "print(4<4)\n",
    "print(4>4)\n",
    "print(4<=4)\n",
    "print(4>=4)\n",
    "print(4!=4)"
   ]
  },
  {
   "cell_type": "markdown",
   "metadata": {},
   "source": [
    "# type conversion"
   ]
  },
  {
   "cell_type": "code",
   "execution_count": null,
   "metadata": {},
   "outputs": [],
   "source": [
    "x=10\n",
    "y=34.5\n",
    "z=\"Hello\"\n",
    "print(type(x))\n",
    "print(type(y))\n",
    "print(type(z))"
   ]
  },
  {
   "cell_type": "markdown",
   "metadata": {},
   "source": [
    "# import libraries"
   ]
  },
  {
   "cell_type": "code",
   "execution_count": null,
   "metadata": {},
   "outputs": [],
   "source": [
    "# import libraries\n",
    "import math\n",
    "print(\"The value of pi is\",math.pi)\n",
    "import statistics\n",
    "x=[150.250,350,450]\n",
    "print(statistics.mean(x))"
   ]
  }
 ],
 "metadata": {
  "kernelspec": {
   "display_name": "Python 3.10.4 64-bit",
   "language": "python",
   "name": "python3"
  },
  "language_info": {
   "codemirror_mode": {
    "name": "ipython",
    "version": 3
   },
   "file_extension": ".py",
   "mimetype": "text/x-python",
   "name": "python",
   "nbconvert_exporter": "python",
   "pygments_lexer": "ipython3",
   "version": "3.10.4"
  },
  "orig_nbformat": 4,
  "vscode": {
   "interpreter": {
    "hash": "f4a60fddce04675db2b44628418a28ed56955d031f89378bd541af5e032e650d"
   }
  }
 },
 "nbformat": 4,
 "nbformat_minor": 2
}
